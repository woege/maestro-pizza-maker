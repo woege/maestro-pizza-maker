{
    "cells": [
        {
            "cell_type": "code",
            "execution_count": 283,
            "metadata": {},
            "outputs": [],
            "source": [
                "from maestro_pizza_maker.pizza_menu import PizzaMenu\n",
                "from maestro_pizza_maker.pizza import Pizza\n",
                "from maestro_pizza_maker.ingredients import PizzaIngredients"
            ]
        },
        {
            "cell_type": "code",
            "execution_count": 284,
            "metadata": {},
            "outputs": [],
            "source": [
                "# consider following menu\n",
                "pizza_menu = PizzaMenu(\n",
                "    pizzas=[\n",
                "        Pizza(\n",
                "            sauce=PizzaIngredients.CREAM_SAUCE,\n",
                "            dough=PizzaIngredients.CLASSIC_DOUGH,\n",
                "            cheese=[PizzaIngredients.MOZZARELA],\n",
                "            fruits=[PizzaIngredients.PINEAPPLE],\n",
                "            meat=[PizzaIngredients.BACON, PizzaIngredients.HAM],\n",
                "            vegetables=[PizzaIngredients.ONIONS],\n",
                "        ),\n",
                "        Pizza(\n",
                "            sauce=PizzaIngredients.TOMATO_SAUCE,\n",
                "            dough=PizzaIngredients.THIN_DOUGH,\n",
                "            cheese=[PizzaIngredients.CHEDDAR],\n",
                "            fruits=[PizzaIngredients.APPLE],\n",
                "            meat=[PizzaIngredients.SAUSAGE],\n",
                "            vegetables=[PizzaIngredients.MUSHROOMS, PizzaIngredients.PEPPER],\n",
                "        ),\n",
                "        Pizza(\n",
                "            sauce=PizzaIngredients.CREAM_SAUCE,\n",
                "            dough=PizzaIngredients.WHOLEMEAL_DOUGH,\n",
                "            cheese=[PizzaIngredients.MOZZARELA, PizzaIngredients.CHEDDAR],\n",
                "            fruits=[PizzaIngredients.PINEAPPLE, PizzaIngredients.APPLE],\n",
                "            meat=[\n",
                "                PizzaIngredients.BACON,\n",
                "                PizzaIngredients.HAM,\n",
                "                PizzaIngredients.SAUSAGE,\n",
                "            ],\n",
                "            vegetables=[\n",
                "                PizzaIngredients.MUSHROOMS,\n",
                "                PizzaIngredients.ONIONS,\n",
                "                PizzaIngredients.PEPPER,\n",
                "            ],\n",
                "        ),\n",
                "        Pizza(\n",
                "            sauce=PizzaIngredients.TOMATO_SAUCE,\n",
                "            dough=PizzaIngredients.CLASSIC_DOUGH,\n",
                "            cheese=[PizzaIngredients.MOZZARELA],\n",
                "            fruits=[PizzaIngredients.PINEAPPLE],\n",
                "            meat=[PizzaIngredients.BACON, PizzaIngredients.HAM],\n",
                "            vegetables=[PizzaIngredients.ONIONS],\n",
                "        ),\n",
                "        Pizza(\n",
                "            sauce=PizzaIngredients.CREAM_SAUCE,\n",
                "            dough=PizzaIngredients.THIN_DOUGH,\n",
                "            cheese=[PizzaIngredients.CHEDDAR],\n",
                "            fruits=[PizzaIngredients.APPLE],\n",
                "            meat=[PizzaIngredients.SAUSAGE],\n",
                "            vegetables=[PizzaIngredients.MUSHROOMS, PizzaIngredients.PEPPER],\n",
                "        ),\n",
                "        Pizza(\n",
                "            sauce=PizzaIngredients.TOMATO_SAUCE,\n",
                "            dough=PizzaIngredients.WHOLEMEAL_DOUGH,\n",
                "            cheese=[PizzaIngredients.MOZZARELA, PizzaIngredients.CHEDDAR],\n",
                "            fruits=[PizzaIngredients.PINEAPPLE, PizzaIngredients.APPLE],\n",
                "            meat=[\n",
                "                PizzaIngredients.BACON,\n",
                "                PizzaIngredients.HAM,\n",
                "                PizzaIngredients.SAUSAGE,\n",
                "            ],\n",
                "            vegetables=[\n",
                "                PizzaIngredients.MUSHROOMS,\n",
                "                PizzaIngredients.ONIONS,\n",
                "                PizzaIngredients.PEPPER,\n",
                "            ],\n",
                "        ),\n",
                "        Pizza(\n",
                "            sauce=PizzaIngredients.CREAM_SAUCE,\n",
                "            dough=PizzaIngredients.CLASSIC_DOUGH,\n",
                "            cheese=[PizzaIngredients.MOZZARELA],\n",
                "            fruits=[PizzaIngredients.PINEAPPLE],\n",
                "            meat=[PizzaIngredients.BACON, PizzaIngredients.HAM],\n",
                "            vegetables=[PizzaIngredients.ONIONS],\n",
                "        ),\n",
                "        Pizza(\n",
                "            sauce=PizzaIngredients.TOMATO_SAUCE,\n",
                "            dough=PizzaIngredients.THIN_DOUGH,\n",
                "            cheese=[PizzaIngredients.CHEDDAR],\n",
                "            fruits=[PizzaIngredients.APPLE],\n",
                "            meat=[PizzaIngredients.SAUSAGE],\n",
                "            vegetables=[PizzaIngredients.MUSHROOMS, PizzaIngredients.PEPPER],\n",
                "        ),\n",
                "        Pizza(\n",
                "            sauce=PizzaIngredients.CREAM_SAUCE,\n",
                "            dough=PizzaIngredients.WHOLEMEAL_DOUGH,\n",
                "            cheese=[PizzaIngredients.MOZZARELA, PizzaIngredients.CHEDDAR],\n",
                "            fruits=[PizzaIngredients.PINEAPPLE, PizzaIngredients.APPLE],\n",
                "            meat=[\n",
                "                PizzaIngredients.BACON,\n",
                "                PizzaIngredients.HAM,\n",
                "                PizzaIngredients.SAUSAGE,\n",
                "            ],\n",
                "            vegetables=[\n",
                "                PizzaIngredients.MUSHROOMS,\n",
                "                PizzaIngredients.ONIONS,\n",
                "                PizzaIngredients.PEPPER,\n",
                "            ],\n",
                "        ),\n",
                "        Pizza(\n",
                "            sauce=PizzaIngredients.TOMATO_SAUCE,\n",
                "            dough=PizzaIngredients.CLASSIC_DOUGH,\n",
                "            cheese=[PizzaIngredients.MOZZARELA],\n",
                "            fruits=[PizzaIngredients.PINEAPPLE],\n",
                "            meat=[PizzaIngredients.BACON, PizzaIngredients.HAM],\n",
                "            vegetables=[PizzaIngredients.ONIONS],\n",
                "        ),\n",
                "    ]\n",
                ")"
            ]
        },
        {
            "cell_type": "code",
            "execution_count": 285,
            "metadata": {},
            "outputs": [
                {
                    "data": {
                        "text/html": [
                            "<div>\n",
                            "<style scoped>\n",
                            "    .dataframe tbody tr th:only-of-type {\n",
                            "        vertical-align: middle;\n",
                            "    }\n",
                            "\n",
                            "    .dataframe tbody tr th {\n",
                            "        vertical-align: top;\n",
                            "    }\n",
                            "\n",
                            "    .dataframe thead th {\n",
                            "        text-align: right;\n",
                            "    }\n",
                            "</style>\n",
                            "<table border=\"1\" class=\"dataframe\">\n",
                            "  <thead>\n",
                            "    <tr style=\"text-align: right;\">\n",
                            "      <th></th>\n",
                            "      <th>name</th>\n",
                            "      <th>price</th>\n",
                            "      <th>protein</th>\n",
                            "      <th>average_fat</th>\n",
                            "      <th>carbohydrates</th>\n",
                            "      <th>calories</th>\n",
                            "      <th>ingredients</th>\n",
                            "    </tr>\n",
                            "  </thead>\n",
                            "  <tbody>\n",
                            "    <tr>\n",
                            "      <th>1</th>\n",
                            "      <td>2020294045968</td>\n",
                            "      <td>6.5</td>\n",
                            "      <td>45.5</td>\n",
                            "      <td>192.972894</td>\n",
                            "      <td>28.0</td>\n",
                            "      <td>1070.0</td>\n",
                            "      <td>[THIN DOUGH, TOMATO SAUCE, CHEDDAR, APPLE, SAU...</td>\n",
                            "    </tr>\n",
                            "    <tr>\n",
                            "      <th>7</th>\n",
                            "      <td>2020293403728</td>\n",
                            "      <td>6.5</td>\n",
                            "      <td>45.5</td>\n",
                            "      <td>192.972894</td>\n",
                            "      <td>28.0</td>\n",
                            "      <td>1070.0</td>\n",
                            "      <td>[THIN DOUGH, TOMATO SAUCE, CHEDDAR, APPLE, SAU...</td>\n",
                            "    </tr>\n",
                            "    <tr>\n",
                            "      <th>4</th>\n",
                            "      <td>2020128585936</td>\n",
                            "      <td>6.6</td>\n",
                            "      <td>45.6</td>\n",
                            "      <td>194.091075</td>\n",
                            "      <td>29.0</td>\n",
                            "      <td>1080.0</td>\n",
                            "      <td>[THIN DOUGH, CREAM SAUCE, CHEDDAR, APPLE, SAUS...</td>\n",
                            "    </tr>\n",
                            "    <tr>\n",
                            "      <th>3</th>\n",
                            "      <td>2020293629392</td>\n",
                            "      <td>7.5</td>\n",
                            "      <td>60.5</td>\n",
                            "      <td>213.717940</td>\n",
                            "      <td>23.0</td>\n",
                            "      <td>1820.0</td>\n",
                            "      <td>[CLASSIC DOUGH, TOMATO SAUCE, MOZZRELA, PINEAP...</td>\n",
                            "    </tr>\n",
                            "    <tr>\n",
                            "      <th>9</th>\n",
                            "      <td>2020266255376</td>\n",
                            "      <td>7.5</td>\n",
                            "      <td>60.5</td>\n",
                            "      <td>213.717940</td>\n",
                            "      <td>23.0</td>\n",
                            "      <td>1820.0</td>\n",
                            "      <td>[CLASSIC DOUGH, TOMATO SAUCE, MOZZRELA, PINEAP...</td>\n",
                            "    </tr>\n",
                            "    <tr>\n",
                            "      <th>0</th>\n",
                            "      <td>2020312622032</td>\n",
                            "      <td>7.6</td>\n",
                            "      <td>60.6</td>\n",
                            "      <td>214.836122</td>\n",
                            "      <td>24.0</td>\n",
                            "      <td>1830.0</td>\n",
                            "      <td>[CLASSIC DOUGH, CREAM SAUCE, MOZZRELA, PINEAPP...</td>\n",
                            "    </tr>\n",
                            "    <tr>\n",
                            "      <th>6</th>\n",
                            "      <td>2020293406800</td>\n",
                            "      <td>7.6</td>\n",
                            "      <td>60.6</td>\n",
                            "      <td>214.836122</td>\n",
                            "      <td>24.0</td>\n",
                            "      <td>1830.0</td>\n",
                            "      <td>[CLASSIC DOUGH, CREAM SAUCE, MOZZRELA, PINEAPP...</td>\n",
                            "    </tr>\n",
                            "    <tr>\n",
                            "      <th>5</th>\n",
                            "      <td>2020293786768</td>\n",
                            "      <td>12.5</td>\n",
                            "      <td>95.5</td>\n",
                            "      <td>360.792780</td>\n",
                            "      <td>38.0</td>\n",
                            "      <td>2770.0</td>\n",
                            "      <td>[WHOLEMEAL DOUGH, TOMATO SAUCE, MOZZRELA, CHED...</td>\n",
                            "    </tr>\n",
                            "    <tr>\n",
                            "      <th>2</th>\n",
                            "      <td>2020293632720</td>\n",
                            "      <td>12.6</td>\n",
                            "      <td>95.6</td>\n",
                            "      <td>361.910962</td>\n",
                            "      <td>39.0</td>\n",
                            "      <td>2780.0</td>\n",
                            "      <td>[WHOLEMEAL DOUGH, CREAM SAUCE, MOZZRELA, CHEDD...</td>\n",
                            "    </tr>\n",
                            "    <tr>\n",
                            "      <th>8</th>\n",
                            "      <td>2020266246288</td>\n",
                            "      <td>12.6</td>\n",
                            "      <td>95.6</td>\n",
                            "      <td>361.910962</td>\n",
                            "      <td>39.0</td>\n",
                            "      <td>2780.0</td>\n",
                            "      <td>[WHOLEMEAL DOUGH, CREAM SAUCE, MOZZRELA, CHEDD...</td>\n",
                            "    </tr>\n",
                            "  </tbody>\n",
                            "</table>\n",
                            "</div>"
                        ],
                        "text/plain": [
                            "            name  price  protein  average_fat  carbohydrates  calories  \\\n",
                            "1  2020294045968    6.5     45.5   192.972894           28.0    1070.0   \n",
                            "7  2020293403728    6.5     45.5   192.972894           28.0    1070.0   \n",
                            "4  2020128585936    6.6     45.6   194.091075           29.0    1080.0   \n",
                            "3  2020293629392    7.5     60.5   213.717940           23.0    1820.0   \n",
                            "9  2020266255376    7.5     60.5   213.717940           23.0    1820.0   \n",
                            "0  2020312622032    7.6     60.6   214.836122           24.0    1830.0   \n",
                            "6  2020293406800    7.6     60.6   214.836122           24.0    1830.0   \n",
                            "5  2020293786768   12.5     95.5   360.792780           38.0    2770.0   \n",
                            "2  2020293632720   12.6     95.6   361.910962           39.0    2780.0   \n",
                            "8  2020266246288   12.6     95.6   361.910962           39.0    2780.0   \n",
                            "\n",
                            "                                         ingredients  \n",
                            "1  [THIN DOUGH, TOMATO SAUCE, CHEDDAR, APPLE, SAU...  \n",
                            "7  [THIN DOUGH, TOMATO SAUCE, CHEDDAR, APPLE, SAU...  \n",
                            "4  [THIN DOUGH, CREAM SAUCE, CHEDDAR, APPLE, SAUS...  \n",
                            "3  [CLASSIC DOUGH, TOMATO SAUCE, MOZZRELA, PINEAP...  \n",
                            "9  [CLASSIC DOUGH, TOMATO SAUCE, MOZZRELA, PINEAP...  \n",
                            "0  [CLASSIC DOUGH, CREAM SAUCE, MOZZRELA, PINEAPP...  \n",
                            "6  [CLASSIC DOUGH, CREAM SAUCE, MOZZRELA, PINEAPP...  \n",
                            "5  [WHOLEMEAL DOUGH, TOMATO SAUCE, MOZZRELA, CHED...  \n",
                            "2  [WHOLEMEAL DOUGH, CREAM SAUCE, MOZZRELA, CHEDD...  \n",
                            "8  [WHOLEMEAL DOUGH, CREAM SAUCE, MOZZRELA, CHEDD...  "
                        ]
                    },
                    "execution_count": 285,
                    "metadata": {},
                    "output_type": "execute_result"
                }
            ],
            "source": [
                "# create a dataframe with the menu using the to_dataframe method you have implemented in the PizzaMenu class\n",
                "# and display it\n",
                "pizza_menu.to_dataframe(sort_by=\"price\", descendent=False)"
            ]
        },
        {
            "cell_type": "code",
            "execution_count": 286,
            "metadata": {},
            "outputs": [
                {
                    "data": {
                        "image/png": "[encoded data removed]",
                        "text/plain": [
                            "<Figure size 640x480 with 1 Axes>"
                        ]
                    },
                    "metadata": {},
                    "output_type": "display_data"
                }
            ],
            "source": [
                "# compute basic descriptive statistics for the menu.\n",
                "# pay a special attention to the price column, as it is the most important one\n",
                "\n",
                "# Following steps are optional, but recommended:\n",
                "# 1. Create a boxplot for the price column\n",
                "# 2. Create a histogram for the price column\n",
                "# 3. Create a scatter plot for the price column and any other column of your choice\n",
                "import matplotlib.pyplot as plt\n",
                "\n",
                "df = pizza_menu.to_dataframe(sort_by=\"price\", descendent=False)\n",
                "plt.boxplot(df[\"price\"])\n",
                "plt.xlabel(\"pizza menu\")\n",
                "plt.ylabel(\"price\")\n",
                "plt.show()"
            ]
        },
        {
            "cell_type": "code",
            "execution_count": 287,
            "metadata": {},
            "outputs": [
                {
                    "data": {
                        "image/png": "[encoded data removed]",
                        "text/plain": [
                            "<Figure size 640x480 with 1 Axes>"
                        ]
                    },
                    "metadata": {},
                    "output_type": "display_data"
                }
            ],
            "source": [
                "plt.hist(df[\"price\"])\n",
                "plt.xlabel(\"price\")\n",
                "plt.ylabel(\"count of pizzas in menu\")\n",
                "plt.show()"
            ]
        },
        {
            "cell_type": "code",
            "execution_count": 288,
            "metadata": {},
            "outputs": [
                {
                    "data": {
                        "image/png": "[encoded data removed]",
                        "text/plain": [
                            "<Figure size 640x480 with 1 Axes>"
                        ]
                    },
                    "metadata": {},
                    "output_type": "display_data"
                }
            ],
            "source": [
                "plt.scatter(df[\"price\"], df[\"calories\"])\n",
                "plt.xlabel(\"price\")\n",
                "plt.ylabel(\"calories\")\n",
                "plt.show()"
            ]
        },
        {
            "cell_type": "code",
            "execution_count": 289,
            "metadata": {},
            "outputs": [
                {
                    "name": "stdout",
                    "output_type": "stream",
                    "text": [
                        "price change protein: 0.12536216919793994\n",
                        "price change fat: 0.03509979036259861\n",
                        "price change carbs: 0.35217391304347834\n"
                    ]
                }
            ],
            "source": [
                "# Try to answer follwing question:\n",
                "# 1. How much will price change on average if we increase the amount of protein in the pizza by 1 unit?\n",
                "# 2. How much will price change on average if we increase the amount of average_fat in the pizza by 1 unit?\n",
                "# 3. How much will price change on average if we increase the amount of carbohydrates in the pizza by 1 unit?\n",
                "\n",
                "# Hint: use functions that you have implemented in the pizza_sensitivities.py\n",
                "\n",
                "from maestro_pizza_maker.pizza_sensitivities import menu_sensitivity_protein, menu_sensitivity_fat, menu_sensitivity_carbs\n",
                "\n",
                "print(f\"price change protein: {menu_sensitivity_protein(pizza_menu)}\")\n",
                "print(f\"price change fat: {menu_sensitivity_fat(pizza_menu)}\")\n",
                "print(f\"price change carbs: {menu_sensitivity_carbs(pizza_menu)}\")"
            ]
        },
        {
            "cell_type": "code",
            "execution_count": 290,
            "metadata": {},
            "outputs": [
                {
                    "name": "stdout",
                    "output_type": "stream",
                    "text": [
                        "old TaR of each pizza: [33.67790268319734, 28.795716066981896, 29.431894845444965, 33.566949963406536, 28.913847433243955, 29.323638046228275, 33.67790268319734, 28.795716066981896, 29.431894845444965, 33.566949963406536]\n",
                        "old TaR sum of pizzas: 309.1824125975337\n",
                        "old TaR menu: 32.12290641097248\n"
                    ]
                }
            ],
            "source": [
                "# Compute Taste at Risk (TaR) for each pizza in the menu and for the whole menu and briefly comment on the results\n",
                "# Use quantile = 0.1\n",
                "# Answer following question:\n",
                "# 1. Does the sum of TaR for each pizza in the menu equal to the TaR of the whole menu and why?\n",
                "\n",
                "# Hint: use functions that you have implemented in the taste_at_risk.py\n",
                "from maestro_pizza_maker.taste_at_risk import taste_at_risk_pizza, taste_at_risk_menu\n",
                "\n",
                "old_tar = [taste_at_risk_pizza(pizza, 0.1) for pizza in pizza_menu.pizzas]\n",
                "old_sum_tar = sum(old_tar)\n",
                "old_tar_menu, _ = taste_at_risk_menu(pizza_menu, 0.1)\n",
                "\n",
                "print(f\"old TaR of each pizza: {old_tar}\")\n",
                "print(f\"old TaR sum of pizzas: {old_sum_tar}\")\n",
                "print(f\"old TaR menu: {old_tar_menu}\")"
            ]
        },
        {
            "attachments": {},
            "cell_type": "markdown",
            "metadata": {},
            "source": [
                "The sum of TaR of pizzas belonging to the menu does not equal to the TaR of the whole menu. Picking one pizza from the menu with taste > 300 is not possible. The 10% confidence interval is already at TaR~30 for each pizza."
            ]
        },
        {
            "cell_type": "code",
            "execution_count": 291,
            "metadata": {},
            "outputs": [
                {
                    "name": "stdout",
                    "output_type": "stream",
                    "text": [
                        "old CTaR of each pizza: [30.67932995902798, 25.81529419035301, 26.584456642268833, 30.44765151125957, 26.048087419743496, 26.340120674731793, 30.67932995902798, 25.81529419035301, 26.584456642268833, 30.44765151125957]\n",
                        "old CTaR sum of pizzas: 279.4416727002941\n",
                        "old CTaR menu: 27.630455951958403\n"
                    ]
                }
            ],
            "source": [
                "# Compute Conditional Taste at Risk (CTaR) for each pizza in the menu and for the whole menu and briefly comment on the results\n",
                "\n",
                "# Hint: use functions that you have implemented in the taste_at_risk.py\n",
                "from maestro_pizza_maker.taste_at_risk import conditional_taste_at_risk_pizza, conditional_taste_at_risk_menu\n",
                "\n",
                "old_ctar = [conditional_taste_at_risk_pizza(pizza, 0.1) for pizza in pizza_menu.pizzas]\n",
                "old_sum_ctar = sum(old_ctar)\n",
                "old_ctar_menu = conditional_taste_at_risk_menu(pizza_menu, 0.1)\n",
                "\n",
                "print(f\"old CTaR of each pizza: {old_ctar}\")\n",
                "print(f\"old CTaR sum of pizzas: {old_sum_ctar}\")\n",
                "print(f\"old CTaR menu: {old_ctar_menu}\")"
            ]
        },
        {
            "attachments": {},
            "cell_type": "markdown",
            "metadata": {},
            "source": [
                "Same idea as with TaR. The sum of CTaR of pizzas belonging to the menu does not equal to the CTaR of the whole menu. Picking one pizza from the menu with taste~300 is not possible."
            ]
        },
        {
            "cell_type": "code",
            "execution_count": 292,
            "metadata": {},
            "outputs": [],
            "source": [
                "# Define constraints_values and constraints_ingredients and find the optimal pizza using the func maximize_taste_penalty_price, that you have implemented in the pizza_optimizer.py\n",
                "# Use lambda_param = 0.5\n",
                "\n",
                "# Add this pizza to the menu using the add_pizza method of the PizzaMenu class\n",
                "\n",
                "from maestro_pizza_maker.pizza_optimizer import maximize_taste_penalty_price, PizzaConstraintsValues, PizzaConstraintsIngredients\n",
                "\n",
                "opt_con_ing = PizzaConstraintsIngredients(\n",
                "    meat=1,\n",
                "    cheese=1,\n",
                "    fruits=1,\n",
                "    vegetables=1\n",
                ")\n",
                "\n",
                "opt_pizza = maximize_taste_penalty_price(PizzaConstraintsValues, opt_con_ing, 0.5)"
            ]
        },
        {
            "cell_type": "code",
            "execution_count": 293,
            "metadata": {},
            "outputs": [
                {
                    "name": "stdout",
                    "output_type": "stream",
                    "text": [
                        "new TaR manu: 32.48667631877905\n",
                        "new CTaR menu: 27.94782836423937\n"
                    ]
                }
            ],
            "source": [
                "# Compute the new TaR and CTaR for the whole new menu with added pizza\n",
                "from maestro_pizza_maker.taste_at_risk import taste_at_risk_menu, conditional_taste_at_risk_menu\n",
                "\n",
                "pizza_menu.add_pizza(opt_pizza)\n",
                "new_tar_menu, _ = taste_at_risk_menu(pizza_menu, 0.1)\n",
                "new_ctar_menu = conditional_taste_at_risk_menu(pizza_menu, 0.1)\n",
                "\n",
                "print(f\"new TaR manu: {new_tar_menu}\")\n",
                "print(f\"new CTaR menu: {new_ctar_menu}\")"
            ]
        },
        {
            "cell_type": "code",
            "execution_count": 110,
            "metadata": {},
            "outputs": [],
            "source": [
                "# Compare old and new TaR and CTaR and briefly comment on the results."
            ]
        }
    ],
    "metadata": {
        "kernelspec": {
            "display_name": "pizza-maker-awB5Ok4Q-py3.10",
            "language": "python",
            "name": "python3"
        },
        "language_info": {
            "codemirror_mode": {
                "name": "ipython",
                "version": 3
            },
            "file_extension": ".py",
            "mimetype": "text/x-python",
            "name": "python",
            "nbconvert_exporter": "python",
            "pygments_lexer": "ipython3",
            "version": "3.11.3"
        },
        "orig_nbformat": 4
    },
    "nbformat": 4,
    "nbformat_minor": 2
}
